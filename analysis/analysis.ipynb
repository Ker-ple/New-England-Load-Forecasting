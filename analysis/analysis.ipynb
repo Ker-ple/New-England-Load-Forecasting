{
 "cells": [
  {
   "cell_type": "code",
   "execution_count": 16,
   "id": "fa43c058",
   "metadata": {},
   "outputs": [
    {
     "name": "stdout",
     "output_type": "stream",
     "text": [
      "Requirement already satisfied: pg8000 in /opt/conda/lib/python3.10/site-packages (1.29.4)\n",
      "Requirement already satisfied: scramp>=1.4.3 in /opt/conda/lib/python3.10/site-packages (from pg8000) (1.4.4)\n",
      "Requirement already satisfied: python-dateutil>=2.8.2 in /opt/conda/lib/python3.10/site-packages (from pg8000) (2.8.2)\n",
      "Requirement already satisfied: six>=1.5 in /opt/conda/lib/python3.10/site-packages (from python-dateutil>=2.8.2->pg8000) (1.16.0)\n",
      "Requirement already satisfied: asn1crypto>=1.5.1 in /opt/conda/lib/python3.10/site-packages (from scramp>=1.4.3->pg8000) (1.5.1)\n",
      "Note: you may need to restart the kernel to use updated packages.\n"
     ]
    }
   ],
   "source": [
    "%pip install pg8000"
   ]
  },
  {
   "cell_type": "code",
   "execution_count": 2,
   "id": "eaa01d06",
   "metadata": {},
   "outputs": [
    {
     "name": "stdout",
     "output_type": "stream",
     "text": [
      "Requirement already satisfied: prophet in /opt/conda/lib/python3.10/site-packages (1.1.2)\n",
      "Requirement already satisfied: convertdate>=2.1.2 in /opt/conda/lib/python3.10/site-packages (from prophet) (2.4.0)\n",
      "Requirement already satisfied: cmdstanpy>=1.0.4 in /opt/conda/lib/python3.10/site-packages (from prophet) (1.1.0)\n",
      "Requirement already satisfied: numpy>=1.15.4 in /opt/conda/lib/python3.10/site-packages (from prophet) (1.23.5)\n",
      "Requirement already satisfied: holidays>=0.14.2 in /opt/conda/lib/python3.10/site-packages (from prophet) (0.21.13)\n",
      "Requirement already satisfied: matplotlib>=2.0.0 in /opt/conda/lib/python3.10/site-packages (from prophet) (3.7.1)\n",
      "Requirement already satisfied: LunarCalendar>=0.0.9 in /opt/conda/lib/python3.10/site-packages (from prophet) (0.0.9)\n",
      "Requirement already satisfied: pandas>=1.0.4 in /opt/conda/lib/python3.10/site-packages (from prophet) (1.5.3)\n",
      "Requirement already satisfied: tqdm>=4.36.1 in /opt/conda/lib/python3.10/site-packages (from prophet) (4.65.0)\n",
      "Requirement already satisfied: python-dateutil>=2.8.0 in /opt/conda/lib/python3.10/site-packages (from prophet) (2.8.2)\n",
      "Requirement already satisfied: pymeeus<=1,>=0.3.13 in /opt/conda/lib/python3.10/site-packages (from convertdate>=2.1.2->prophet) (0.5.12)\n",
      "Requirement already satisfied: korean-lunar-calendar in /opt/conda/lib/python3.10/site-packages (from holidays>=0.14.2->prophet) (0.3.1)\n",
      "Requirement already satisfied: hijri-converter in /opt/conda/lib/python3.10/site-packages (from holidays>=0.14.2->prophet) (2.2.4)\n",
      "Requirement already satisfied: pytz in /opt/conda/lib/python3.10/site-packages (from LunarCalendar>=0.0.9->prophet) (2022.7.1)\n",
      "Requirement already satisfied: ephem>=3.7.5.3 in /opt/conda/lib/python3.10/site-packages (from LunarCalendar>=0.0.9->prophet) (4.1.4)\n",
      "Requirement already satisfied: cycler>=0.10 in /opt/conda/lib/python3.10/site-packages (from matplotlib>=2.0.0->prophet) (0.11.0)\n",
      "Requirement already satisfied: kiwisolver>=1.0.1 in /opt/conda/lib/python3.10/site-packages (from matplotlib>=2.0.0->prophet) (1.4.4)\n",
      "Requirement already satisfied: packaging>=20.0 in /opt/conda/lib/python3.10/site-packages (from matplotlib>=2.0.0->prophet) (23.0)\n",
      "Requirement already satisfied: pyparsing>=2.3.1 in /opt/conda/lib/python3.10/site-packages (from matplotlib>=2.0.0->prophet) (3.0.9)\n",
      "Requirement already satisfied: fonttools>=4.22.0 in /opt/conda/lib/python3.10/site-packages (from matplotlib>=2.0.0->prophet) (4.39.0)\n",
      "Requirement already satisfied: contourpy>=1.0.1 in /opt/conda/lib/python3.10/site-packages (from matplotlib>=2.0.0->prophet) (1.0.7)\n",
      "Requirement already satisfied: pillow>=6.2.0 in /opt/conda/lib/python3.10/site-packages (from matplotlib>=2.0.0->prophet) (9.4.0)\n",
      "Requirement already satisfied: six>=1.5 in /opt/conda/lib/python3.10/site-packages (from python-dateutil>=2.8.0->prophet) (1.16.0)\n",
      "Note: you may need to restart the kernel to use updated packages.\n",
      "Requirement already satisfied: plotly in /opt/conda/lib/python3.10/site-packages (5.13.1)\n",
      "Requirement already satisfied: tenacity>=6.2.0 in /opt/conda/lib/python3.10/site-packages (from plotly) (8.2.2)\n",
      "Note: you may need to restart the kernel to use updated packages.\n"
     ]
    }
   ],
   "source": [
    "%pip install prophet\n",
    "%pip install plotly"
   ]
  },
  {
   "cell_type": "code",
   "execution_count": 1,
   "id": "740ffbf7-9b16-4d2d-b9a0-4b9ab96a5ba7",
   "metadata": {
    "tags": []
   },
   "outputs": [],
   "source": [
    "import os\n",
    "from sqlalchemy import create_engine, text\n",
    "from sqlalchemy.engine import URL\n",
    "import pandas as pd\n",
    "import seaborn as sns\n",
    "from sklearn.cluster import KMeans\n",
    "from sklearn.model_selection import train_test_split\n",
    "import numpy as np\n",
    "from sklearn import metrics\n",
    "from scipy.spatial.distance import cdist\n",
    "from matplotlib import pyplot as plt\n",
    "#from autonotebook import tqdm as notebook_tqdm\n",
    "from prophet import Prophet"
   ]
  },
  {
   "cell_type": "code",
   "execution_count": 5,
   "id": "2cdcc22c-abd5-4f77-994e-c4ec16d9018b",
   "metadata": {
    "tags": []
   },
   "outputs": [],
   "source": [
    "url = URL.create(\n",
    "    \"postgresql+pg8000\",\n",
    "    username=os.environ.get('DB_USER'),\n",
    "    password=os.environ.get('DB_PASSWORD'),\n",
    "    host=os.environ.get('DB_HOST'),\n",
    "    database=os.environ.get('DB_NAME')\n",
    ")\n",
    "\n",
    "engine = create_engine(url)"
   ]
  },
  {
   "cell_type": "code",
   "execution_count": 6,
   "id": "52c5e7ab-57dc-4e01-b457-e56955e64517",
   "metadata": {
    "tags": []
   },
   "outputs": [],
   "source": [
    "with engine.connect() as conn:\n",
    "    weather_station_coords = pd.read_sql(sql=text(\"SELECT DISTINCT latitude, longitude FROM weather_historical;\"), con=conn)"
   ]
  },
  {
   "cell_type": "code",
   "execution_count": 7,
   "id": "80a1044e-2a04-489d-9d76-173f8653aed0",
   "metadata": {
    "tags": []
   },
   "outputs": [],
   "source": [
    "with engine.connect() as conn:\n",
    "    population_centers = pd.read_sql(sql=text(\"SELECT * FROM population_centers WHERE center_name IN ('boston', 'hartford');\"), con=conn)   "
   ]
  },
  {
   "cell_type": "code",
   "execution_count": 8,
   "id": "dcf282d3-5ce7-4855-8a56-377d5fa0661a",
   "metadata": {
    "tags": []
   },
   "outputs": [
    {
     "name": "stderr",
     "output_type": "stream",
     "text": [
      "/tmp/ipykernel_12342/3508199798.py:3: SettingWithCopyWarning: \n",
      "A value is trying to be set on a copy of a slice from a DataFrame.\n",
      "Try using .loc[row_indexer,col_indexer] = value instead\n",
      "\n",
      "See the caveats in the documentation: https://pandas.pydata.org/pandas-docs/stable/user_guide/indexing.html#returning-a-view-versus-a-copy\n",
      "  population_center_coords['type'] = \"population_center\"\n"
     ]
    }
   ],
   "source": [
    "weather_station_coords['type'] = \"weather_station\"\n",
    "population_center_coords = population_centers[['latitude', 'longitude']]\n",
    "population_center_coords['type'] = \"population_center\"\n",
    "all_coords = pd.concat([population_center_coords, weather_station_coords], axis=0, ignore_index=True)"
   ]
  },
  {
   "cell_type": "code",
   "execution_count": 9,
   "id": "08093569-377c-4424-92ef-696f803f084c",
   "metadata": {
    "tags": []
   },
   "outputs": [
    {
     "data": {
      "text/plain": [
       "(-73.76439500000001, -67.507705, 40.85194, 47.59186)"
      ]
     },
     "execution_count": 9,
     "metadata": {},
     "output_type": "execute_result"
    },
    {
     "data": {
      "image/png": "[encoded data removed]",
      "text/plain": [
       "<Figure size 640x480 with 1 Axes>"
      ]
     },
     "metadata": {},
     "output_type": "display_data"
    }
   ],
   "source": [
    "sns.scatterplot(all_coords, x='longitude', y='latitude', hue='type')\n",
    "plt.axis('equal')"
   ]
  },
  {
   "cell_type": "code",
   "execution_count": 10,
   "id": "84893b1d-d200-40c3-b47f-b7c4865f7624",
   "metadata": {
    "tags": []
   },
   "outputs": [
    {
     "data": {
      "text/html": [
       "<div>\n",
       "<style scoped>\n",
       "    .dataframe tbody tr th:only-of-type {\n",
       "        vertical-align: middle;\n",
       "    }\n",
       "\n",
       "    .dataframe tbody tr th {\n",
       "        vertical-align: top;\n",
       "    }\n",
       "\n",
       "    .dataframe thead th {\n",
       "        text-align: right;\n",
       "    }\n",
       "</style>\n",
       "<table border=\"1\" class=\"dataframe\">\n",
       "  <thead>\n",
       "    <tr style=\"text-align: right;\">\n",
       "      <th></th>\n",
       "      <th>latitude</th>\n",
       "      <th>longitude</th>\n",
       "      <th>type</th>\n",
       "    </tr>\n",
       "  </thead>\n",
       "  <tbody>\n",
       "    <tr>\n",
       "      <th>0</th>\n",
       "      <td>42.361145</td>\n",
       "      <td>-71.05708</td>\n",
       "      <td>population_center</td>\n",
       "    </tr>\n",
       "    <tr>\n",
       "      <th>1</th>\n",
       "      <td>41.763710</td>\n",
       "      <td>-72.68510</td>\n",
       "      <td>population_center</td>\n",
       "    </tr>\n",
       "    <tr>\n",
       "      <th>2</th>\n",
       "      <td>42.191200</td>\n",
       "      <td>-71.17330</td>\n",
       "      <td>weather_station</td>\n",
       "    </tr>\n",
       "    <tr>\n",
       "      <th>3</th>\n",
       "      <td>43.985500</td>\n",
       "      <td>-73.09550</td>\n",
       "      <td>weather_station</td>\n",
       "    </tr>\n",
       "    <tr>\n",
       "      <th>4</th>\n",
       "      <td>41.741900</td>\n",
       "      <td>-72.18360</td>\n",
       "      <td>weather_station</td>\n",
       "    </tr>\n",
       "    <tr>\n",
       "      <th>...</th>\n",
       "      <td>...</td>\n",
       "      <td>...</td>\n",
       "      <td>...</td>\n",
       "    </tr>\n",
       "    <tr>\n",
       "      <th>77</th>\n",
       "      <td>42.098200</td>\n",
       "      <td>-70.67210</td>\n",
       "      <td>weather_station</td>\n",
       "    </tr>\n",
       "    <tr>\n",
       "      <th>78</th>\n",
       "      <td>42.570100</td>\n",
       "      <td>-72.28860</td>\n",
       "      <td>weather_station</td>\n",
       "    </tr>\n",
       "    <tr>\n",
       "      <th>79</th>\n",
       "      <td>41.158300</td>\n",
       "      <td>-73.12890</td>\n",
       "      <td>weather_station</td>\n",
       "    </tr>\n",
       "    <tr>\n",
       "      <th>80</th>\n",
       "      <td>42.893500</td>\n",
       "      <td>-73.24860</td>\n",
       "      <td>weather_station</td>\n",
       "    </tr>\n",
       "    <tr>\n",
       "      <th>81</th>\n",
       "      <td>41.875600</td>\n",
       "      <td>-71.02110</td>\n",
       "      <td>weather_station</td>\n",
       "    </tr>\n",
       "  </tbody>\n",
       "</table>\n",
       "<p>82 rows × 3 columns</p>\n",
       "</div>"
      ],
      "text/plain": [
       "     latitude  longitude               type\n",
       "0   42.361145  -71.05708  population_center\n",
       "1   41.763710  -72.68510  population_center\n",
       "2   42.191200  -71.17330    weather_station\n",
       "3   43.985500  -73.09550    weather_station\n",
       "4   41.741900  -72.18360    weather_station\n",
       "..        ...        ...                ...\n",
       "77  42.098200  -70.67210    weather_station\n",
       "78  42.570100  -72.28860    weather_station\n",
       "79  41.158300  -73.12890    weather_station\n",
       "80  42.893500  -73.24860    weather_station\n",
       "81  41.875600  -71.02110    weather_station\n",
       "\n",
       "[82 rows x 3 columns]"
      ]
     },
     "execution_count": 10,
     "metadata": {},
     "output_type": "execute_result"
    }
   ],
   "source": [
    "all_coords"
   ]
  },
  {
   "cell_type": "code",
   "execution_count": 11,
   "id": "854484c4-87fb-4490-b677-348e5c95c58e",
   "metadata": {
    "tags": []
   },
   "outputs": [
    {
     "data": {
      "text/plain": [
       "<Axes: xlabel='longitude', ylabel='latitude'>"
      ]
     },
     "execution_count": 11,
     "metadata": {},
     "output_type": "execute_result"
    },
    {
     "data": {
      "image/png": "[encoded data removed]",
      "text/plain": [
       "<Figure size 640x480 with 1 Axes>"
      ]
     },
     "metadata": {},
     "output_type": "display_data"
    }
   ],
   "source": [
    "relevant_points = all_coords[(all_coords['latitude'].between(41, 43)) & (all_coords['longitude'].between(-73, -70))]\n",
    "sns.scatterplot(relevant_points, x='longitude', y='latitude', hue='type')"
   ]
  },
  {
   "cell_type": "code",
   "execution_count": 12,
   "id": "91c379e9-da56-4cc0-aba5-3f20437e9a1a",
   "metadata": {
    "tags": []
   },
   "outputs": [],
   "source": [
    "c = cdist(relevant_points.loc[relevant_points['type'] == 'weather_station', ['longitude', 'latitude']], relevant_points.loc[relevant_points['type'] == 'population_center', ['longitude', 'latitude']], 'euclidean')\n",
    "distances = pd.DataFrame(c, columns=['distance_to_boston', 'distance_to_hartford'])"
   ]
  },
  {
   "cell_type": "code",
   "execution_count": 13,
   "id": "fc7660da-f714-4218-8f9b-70ccb3ed0d12",
   "metadata": {
    "tags": []
   },
   "outputs": [
    {
     "data": {
      "text/html": [
       "<div>\n",
       "<style scoped>\n",
       "    .dataframe tbody tr th:only-of-type {\n",
       "        vertical-align: middle;\n",
       "    }\n",
       "\n",
       "    .dataframe tbody tr th {\n",
       "        vertical-align: top;\n",
       "    }\n",
       "\n",
       "    .dataframe thead th {\n",
       "        text-align: right;\n",
       "    }\n",
       "</style>\n",
       "<table border=\"1\" class=\"dataframe\">\n",
       "  <thead>\n",
       "    <tr style=\"text-align: right;\">\n",
       "      <th></th>\n",
       "      <th>distance_to_boston</th>\n",
       "      <th>distance_to_hartford</th>\n",
       "    </tr>\n",
       "  </thead>\n",
       "  <tbody>\n",
       "    <tr>\n",
       "      <th>0</th>\n",
       "      <td>0.205884</td>\n",
       "      <td>1.571078</td>\n",
       "    </tr>\n",
       "    <tr>\n",
       "      <th>1</th>\n",
       "      <td>1.285501</td>\n",
       "      <td>0.501974</td>\n",
       "    </tr>\n",
       "    <tr>\n",
       "      <th>2</th>\n",
       "      <td>1.431485</td>\n",
       "      <td>0.769062</td>\n",
       "    </tr>\n",
       "    <tr>\n",
       "      <th>3</th>\n",
       "      <td>0.621658</td>\n",
       "      <td>1.551164</td>\n",
       "    </tr>\n",
       "    <tr>\n",
       "      <th>4</th>\n",
       "      <td>1.710384</td>\n",
       "      <td>0.044766</td>\n",
       "    </tr>\n",
       "    <tr>\n",
       "      <th>5</th>\n",
       "      <td>0.883491</td>\n",
       "      <td>2.166157</td>\n",
       "    </tr>\n",
       "    <tr>\n",
       "      <th>6</th>\n",
       "      <td>0.685669</td>\n",
       "      <td>1.711073</td>\n",
       "    </tr>\n",
       "    <tr>\n",
       "      <th>7</th>\n",
       "      <td>1.747595</td>\n",
       "      <td>0.419962</td>\n",
       "    </tr>\n",
       "    <tr>\n",
       "      <th>8</th>\n",
       "      <td>1.490414</td>\n",
       "      <td>2.674004</td>\n",
       "    </tr>\n",
       "    <tr>\n",
       "      <th>9</th>\n",
       "      <td>0.724291</td>\n",
       "      <td>1.218541</td>\n",
       "    </tr>\n",
       "    <tr>\n",
       "      <th>10</th>\n",
       "      <td>0.842499</td>\n",
       "      <td>1.283857</td>\n",
       "    </tr>\n",
       "    <tr>\n",
       "      <th>11</th>\n",
       "      <td>0.362179</td>\n",
       "      <td>1.829768</td>\n",
       "    </tr>\n",
       "    <tr>\n",
       "      <th>12</th>\n",
       "      <td>1.966645</td>\n",
       "      <td>0.292173</td>\n",
       "    </tr>\n",
       "    <tr>\n",
       "      <th>13</th>\n",
       "      <td>1.044921</td>\n",
       "      <td>1.244891</td>\n",
       "    </tr>\n",
       "    <tr>\n",
       "      <th>14</th>\n",
       "      <td>0.558751</td>\n",
       "      <td>1.961688</td>\n",
       "    </tr>\n",
       "    <tr>\n",
       "      <th>15</th>\n",
       "      <td>0.858593</td>\n",
       "      <td>1.422532</td>\n",
       "    </tr>\n",
       "    <tr>\n",
       "      <th>16</th>\n",
       "      <td>0.691833</td>\n",
       "      <td>1.729006</td>\n",
       "    </tr>\n",
       "    <tr>\n",
       "      <th>17</th>\n",
       "      <td>0.618496</td>\n",
       "      <td>1.203992</td>\n",
       "    </tr>\n",
       "    <tr>\n",
       "      <th>18</th>\n",
       "      <td>0.047383</td>\n",
       "      <td>1.778551</td>\n",
       "    </tr>\n",
       "    <tr>\n",
       "      <th>19</th>\n",
       "      <td>1.039969</td>\n",
       "      <td>2.406925</td>\n",
       "    </tr>\n",
       "    <tr>\n",
       "      <th>20</th>\n",
       "      <td>0.256153</td>\n",
       "      <td>1.564545</td>\n",
       "    </tr>\n",
       "    <tr>\n",
       "      <th>21</th>\n",
       "      <td>0.263788</td>\n",
       "      <td>1.949975</td>\n",
       "    </tr>\n",
       "    <tr>\n",
       "      <th>22</th>\n",
       "      <td>0.886267</td>\n",
       "      <td>2.484055</td>\n",
       "    </tr>\n",
       "    <tr>\n",
       "      <th>23</th>\n",
       "      <td>1.487143</td>\n",
       "      <td>0.455785</td>\n",
       "    </tr>\n",
       "    <tr>\n",
       "      <th>24</th>\n",
       "      <td>1.064211</td>\n",
       "      <td>2.103014</td>\n",
       "    </tr>\n",
       "    <tr>\n",
       "      <th>25</th>\n",
       "      <td>0.741333</td>\n",
       "      <td>1.253298</td>\n",
       "    </tr>\n",
       "    <tr>\n",
       "      <th>26</th>\n",
       "      <td>1.300873</td>\n",
       "      <td>1.254487</td>\n",
       "    </tr>\n",
       "    <tr>\n",
       "      <th>27</th>\n",
       "      <td>1.327230</td>\n",
       "      <td>1.209737</td>\n",
       "    </tr>\n",
       "    <tr>\n",
       "      <th>28</th>\n",
       "      <td>1.679571</td>\n",
       "      <td>0.174409</td>\n",
       "    </tr>\n",
       "    <tr>\n",
       "      <th>29</th>\n",
       "      <td>1.671435</td>\n",
       "      <td>0.395307</td>\n",
       "    </tr>\n",
       "    <tr>\n",
       "      <th>30</th>\n",
       "      <td>1.254320</td>\n",
       "      <td>0.978138</td>\n",
       "    </tr>\n",
       "    <tr>\n",
       "      <th>31</th>\n",
       "      <td>0.823982</td>\n",
       "      <td>0.953274</td>\n",
       "    </tr>\n",
       "    <tr>\n",
       "      <th>32</th>\n",
       "      <td>2.133551</td>\n",
       "      <td>0.539067</td>\n",
       "    </tr>\n",
       "    <tr>\n",
       "      <th>33</th>\n",
       "      <td>0.466208</td>\n",
       "      <td>2.040601</td>\n",
       "    </tr>\n",
       "    <tr>\n",
       "      <th>34</th>\n",
       "      <td>1.249121</td>\n",
       "      <td>0.898597</td>\n",
       "    </tr>\n",
       "    <tr>\n",
       "      <th>35</th>\n",
       "      <td>0.486876</td>\n",
       "      <td>1.667758</td>\n",
       "    </tr>\n",
       "  </tbody>\n",
       "</table>\n",
       "</div>"
      ],
      "text/plain": [
       "    distance_to_boston  distance_to_hartford\n",
       "0             0.205884              1.571078\n",
       "1             1.285501              0.501974\n",
       "2             1.431485              0.769062\n",
       "3             0.621658              1.551164\n",
       "4             1.710384              0.044766\n",
       "5             0.883491              2.166157\n",
       "6             0.685669              1.711073\n",
       "7             1.747595              0.419962\n",
       "8             1.490414              2.674004\n",
       "9             0.724291              1.218541\n",
       "10            0.842499              1.283857\n",
       "11            0.362179              1.829768\n",
       "12            1.966645              0.292173\n",
       "13            1.044921              1.244891\n",
       "14            0.558751              1.961688\n",
       "15            0.858593              1.422532\n",
       "16            0.691833              1.729006\n",
       "17            0.618496              1.203992\n",
       "18            0.047383              1.778551\n",
       "19            1.039969              2.406925\n",
       "20            0.256153              1.564545\n",
       "21            0.263788              1.949975\n",
       "22            0.886267              2.484055\n",
       "23            1.487143              0.455785\n",
       "24            1.064211              2.103014\n",
       "25            0.741333              1.253298\n",
       "26            1.300873              1.254487\n",
       "27            1.327230              1.209737\n",
       "28            1.679571              0.174409\n",
       "29            1.671435              0.395307\n",
       "30            1.254320              0.978138\n",
       "31            0.823982              0.953274\n",
       "32            2.133551              0.539067\n",
       "33            0.466208              2.040601\n",
       "34            1.249121              0.898597\n",
       "35            0.486876              1.667758"
      ]
     },
     "execution_count": 13,
     "metadata": {},
     "output_type": "execute_result"
    }
   ],
   "source": [
    "distances"
   ]
  },
  {
   "cell_type": "code",
   "execution_count": 14,
   "id": "eea967e8-c22d-41b7-85a6-4e62495369ff",
   "metadata": {
    "tags": []
   },
   "outputs": [
    {
     "data": {
      "text/plain": [
       "(-0.05692527596842474,\n",
       " 2.2378597520050385,\n",
       " -0.08669548755736906,\n",
       " 2.8054659234720445)"
      ]
     },
     "execution_count": 14,
     "metadata": {},
     "output_type": "execute_result"
    },
    {
     "data": {
      "image/png": "[encoded data removed]",
      "text/plain": [
       "<Figure size 640x480 with 1 Axes>"
      ]
     },
     "metadata": {},
     "output_type": "display_data"
    }
   ],
   "source": [
    "g = sns.scatterplot(distances, x='distance_to_boston', y='distance_to_hartford')\n",
    "plt.axis('equal')"
   ]
  },
  {
   "cell_type": "code",
   "execution_count": 15,
   "id": "c7bc5504-4152-40b2-98a3-45405efb21eb",
   "metadata": {
    "tags": []
   },
   "outputs": [],
   "source": [
    "X = distances.to_numpy()"
   ]
  },
  {
   "cell_type": "code",
   "execution_count": 16,
   "id": "26555f35-c4f2-4ab9-9562-b82fb825f471",
   "metadata": {
    "tags": []
   },
   "outputs": [],
   "source": [
    "distortions = []\n",
    "inertias = []\n",
    "silhouettes = []\n",
    "mapping1 = {}\n",
    "mapping2 = {}\n",
    "mapping3 = {}\n",
    "labels = {}\n",
    "\n",
    "cluster_amount = range(2, 15)\n",
    "for n in cluster_amount:\n",
    "    kmeans = KMeans(n_clusters=n, n_init=10)\n",
    "    kmeans.fit(X)\n",
    "    silhouettes.append(metrics.silhouette_score(X, kmeans.labels_, metric='euclidean'))\n",
    "    distortions.append(sum(np.min(cdist(X, kmeans.cluster_centers_, 'euclidean'), axis=1)) / X.shape[0])\n",
    "    inertias.append(kmeans.inertia_)\n",
    "    mapping1[n] = sum(np.min(cdist(X, kmeans.cluster_centers_, 'euclidean'), axis=1)) / X.shape[0]\n",
    "    mapping2[n] = kmeans.inertia_\n",
    "    mapping3[n] = metrics.silhouette_score(X, kmeans.labels_, metric='euclidean')\n",
    "    labels[n] = kmeans.labels_"
   ]
  },
  {
   "cell_type": "code",
   "execution_count": 17,
   "id": "88f42d07-641f-4972-980a-a3b823f19861",
   "metadata": {
    "tags": []
   },
   "outputs": [
    {
     "data": {
      "text/plain": [
       "<Axes: >"
      ]
     },
     "execution_count": 17,
     "metadata": {},
     "output_type": "execute_result"
    },
    {
     "data": {
      "image/png": "[encoded data removed]",
      "text/plain": [
       "<Figure size 640x480 with 1 Axes>"
      ]
     },
     "metadata": {},
     "output_type": "display_data"
    }
   ],
   "source": [
    "sns.lineplot(distortions)"
   ]
  },
  {
   "cell_type": "code",
   "execution_count": 18,
   "id": "d4649392-a74a-4e1e-8590-89f90a177efb",
   "metadata": {
    "tags": []
   },
   "outputs": [
    {
     "data": {
      "text/plain": [
       "<Axes: >"
      ]
     },
     "execution_count": 18,
     "metadata": {},
     "output_type": "execute_result"
    },
    {
     "data": {
      "image/png": "[encoded data removed]",
      "text/plain": [
       "<Figure size 640x480 with 1 Axes>"
      ]
     },
     "metadata": {},
     "output_type": "display_data"
    }
   ],
   "source": [
    "sns.lineplot(inertias)"
   ]
  },
  {
   "cell_type": "code",
   "execution_count": 19,
   "id": "164a42be-02c7-4692-a911-09e7c7b27832",
   "metadata": {
    "tags": []
   },
   "outputs": [
    {
     "data": {
      "text/plain": [
       "<Axes: >"
      ]
     },
     "execution_count": 19,
     "metadata": {},
     "output_type": "execute_result"
    },
    {
     "data": {
      "image/png": "[encoded data removed]",
      "text/plain": [
       "<Figure size 640x480 with 1 Axes>"
      ]
     },
     "metadata": {},
     "output_type": "display_data"
    }
   ],
   "source": [
    "sns.lineplot(silhouettes)"
   ]
  },
  {
   "cell_type": "code",
   "execution_count": 20,
   "id": "b3d01d98-fb3a-43b5-968b-df782c080727",
   "metadata": {
    "tags": []
   },
   "outputs": [
    {
     "data": {
      "text/plain": [
       "array([0, 1, 1, 0, 1, 0, 0, 1, 0, 0, 0, 0, 1, 0, 0, 0, 0, 0, 0, 0, 0, 0,\n",
       "       0, 1, 0, 0, 1, 1, 1, 1, 1, 1, 1, 0, 1, 0], dtype=int32)"
      ]
     },
     "execution_count": 20,
     "metadata": {},
     "output_type": "execute_result"
    }
   ],
   "source": [
    "labels[2]"
   ]
  },
  {
   "cell_type": "code",
   "execution_count": 21,
   "id": "12f0c981-74ae-4cb3-a569-388f164a0fd7",
   "metadata": {
    "tags": []
   },
   "outputs": [
    {
     "name": "stderr",
     "output_type": "stream",
     "text": [
      "/tmp/ipykernel_12342/1591246521.py:1: SettingWithCopyWarning: \n",
      "A value is trying to be set on a copy of a slice from a DataFrame.\n",
      "Try using .loc[row_indexer,col_indexer] = value instead\n",
      "\n",
      "See the caveats in the documentation: https://pandas.pydata.org/pandas-docs/stable/user_guide/indexing.html#returning-a-view-versus-a-copy\n",
      "  relevant_points['label'] = 'population_center'\n"
     ]
    },
    {
     "data": {
      "text/html": [
       "<div>\n",
       "<style scoped>\n",
       "    .dataframe tbody tr th:only-of-type {\n",
       "        vertical-align: middle;\n",
       "    }\n",
       "\n",
       "    .dataframe tbody tr th {\n",
       "        vertical-align: top;\n",
       "    }\n",
       "\n",
       "    .dataframe thead th {\n",
       "        text-align: right;\n",
       "    }\n",
       "</style>\n",
       "<table border=\"1\" class=\"dataframe\">\n",
       "  <thead>\n",
       "    <tr style=\"text-align: right;\">\n",
       "      <th></th>\n",
       "      <th>latitude</th>\n",
       "      <th>longitude</th>\n",
       "      <th>type</th>\n",
       "      <th>label</th>\n",
       "    </tr>\n",
       "  </thead>\n",
       "  <tbody>\n",
       "    <tr>\n",
       "      <th>0</th>\n",
       "      <td>42.361145</td>\n",
       "      <td>-71.05708</td>\n",
       "      <td>population_center</td>\n",
       "      <td>population_center</td>\n",
       "    </tr>\n",
       "    <tr>\n",
       "      <th>1</th>\n",
       "      <td>41.763710</td>\n",
       "      <td>-72.68510</td>\n",
       "      <td>population_center</td>\n",
       "      <td>population_center</td>\n",
       "    </tr>\n",
       "    <tr>\n",
       "      <th>2</th>\n",
       "      <td>42.191200</td>\n",
       "      <td>-71.17330</td>\n",
       "      <td>weather_station</td>\n",
       "      <td>0</td>\n",
       "    </tr>\n",
       "    <tr>\n",
       "      <th>4</th>\n",
       "      <td>41.741900</td>\n",
       "      <td>-72.18360</td>\n",
       "      <td>weather_station</td>\n",
       "      <td>1</td>\n",
       "    </tr>\n",
       "    <tr>\n",
       "      <th>7</th>\n",
       "      <td>41.330000</td>\n",
       "      <td>-72.05000</td>\n",
       "      <td>weather_station</td>\n",
       "      <td>1</td>\n",
       "    </tr>\n",
       "    <tr>\n",
       "      <th>8</th>\n",
       "      <td>42.781800</td>\n",
       "      <td>-71.51480</td>\n",
       "      <td>weather_station</td>\n",
       "      <td>0</td>\n",
       "    </tr>\n",
       "    <tr>\n",
       "      <th>9</th>\n",
       "      <td>41.736700</td>\n",
       "      <td>-72.64940</td>\n",
       "      <td>weather_station</td>\n",
       "      <td>1</td>\n",
       "    </tr>\n",
       "    <tr>\n",
       "      <th>10</th>\n",
       "      <td>41.658500</td>\n",
       "      <td>-70.52150</td>\n",
       "      <td>weather_station</td>\n",
       "      <td>0</td>\n",
       "    </tr>\n",
       "    <tr>\n",
       "      <th>11</th>\n",
       "      <td>42.932800</td>\n",
       "      <td>-71.43570</td>\n",
       "      <td>weather_station</td>\n",
       "      <td>0</td>\n",
       "    </tr>\n",
       "    <tr>\n",
       "      <th>15</th>\n",
       "      <td>41.383900</td>\n",
       "      <td>-72.50590</td>\n",
       "      <td>weather_station</td>\n",
       "      <td>1</td>\n",
       "    </tr>\n",
       "    <tr>\n",
       "      <th>18</th>\n",
       "      <td>41.253100</td>\n",
       "      <td>-70.06030</td>\n",
       "      <td>weather_station</td>\n",
       "      <td>0</td>\n",
       "    </tr>\n",
       "    <tr>\n",
       "      <th>19</th>\n",
       "      <td>42.551900</td>\n",
       "      <td>-71.75580</td>\n",
       "      <td>weather_station</td>\n",
       "      <td>0</td>\n",
       "    </tr>\n",
       "    <tr>\n",
       "      <th>20</th>\n",
       "      <td>41.597100</td>\n",
       "      <td>-71.41210</td>\n",
       "      <td>weather_station</td>\n",
       "      <td>0</td>\n",
       "    </tr>\n",
       "    <tr>\n",
       "      <th>22</th>\n",
       "      <td>42.717200</td>\n",
       "      <td>-71.12340</td>\n",
       "      <td>weather_station</td>\n",
       "      <td>0</td>\n",
       "    </tr>\n",
       "    <tr>\n",
       "      <th>23</th>\n",
       "      <td>41.510000</td>\n",
       "      <td>-72.83000</td>\n",
       "      <td>weather_station</td>\n",
       "      <td>1</td>\n",
       "    </tr>\n",
       "    <tr>\n",
       "      <th>25</th>\n",
       "      <td>42.805100</td>\n",
       "      <td>-72.00300</td>\n",
       "      <td>weather_station</td>\n",
       "      <td>0</td>\n",
       "    </tr>\n",
       "    <tr>\n",
       "      <th>29</th>\n",
       "      <td>41.909000</td>\n",
       "      <td>-70.72880</td>\n",
       "      <td>weather_station</td>\n",
       "      <td>0</td>\n",
       "    </tr>\n",
       "    <tr>\n",
       "      <th>32</th>\n",
       "      <td>41.532400</td>\n",
       "      <td>-71.28150</td>\n",
       "      <td>weather_station</td>\n",
       "      <td>0</td>\n",
       "    </tr>\n",
       "    <tr>\n",
       "      <th>35</th>\n",
       "      <td>41.676400</td>\n",
       "      <td>-70.95830</td>\n",
       "      <td>weather_station</td>\n",
       "      <td>0</td>\n",
       "    </tr>\n",
       "    <tr>\n",
       "      <th>38</th>\n",
       "      <td>41.920800</td>\n",
       "      <td>-71.49140</td>\n",
       "      <td>weather_station</td>\n",
       "      <td>0</td>\n",
       "    </tr>\n",
       "    <tr>\n",
       "      <th>46</th>\n",
       "      <td>42.360600</td>\n",
       "      <td>-71.00970</td>\n",
       "      <td>weather_station</td>\n",
       "      <td>0</td>\n",
       "    </tr>\n",
       "    <tr>\n",
       "      <th>49</th>\n",
       "      <td>41.670000</td>\n",
       "      <td>-70.28000</td>\n",
       "      <td>weather_station</td>\n",
       "      <td>0</td>\n",
       "    </tr>\n",
       "    <tr>\n",
       "      <th>50</th>\n",
       "      <td>42.469900</td>\n",
       "      <td>-71.28900</td>\n",
       "      <td>weather_station</td>\n",
       "      <td>0</td>\n",
       "    </tr>\n",
       "    <tr>\n",
       "      <th>56</th>\n",
       "      <td>42.584100</td>\n",
       "      <td>-70.91610</td>\n",
       "      <td>weather_station</td>\n",
       "      <td>0</td>\n",
       "    </tr>\n",
       "    <tr>\n",
       "      <th>58</th>\n",
       "      <td>42.070000</td>\n",
       "      <td>-70.22000</td>\n",
       "      <td>weather_station</td>\n",
       "      <td>0</td>\n",
       "    </tr>\n",
       "    <tr>\n",
       "      <th>59</th>\n",
       "      <td>42.194000</td>\n",
       "      <td>-72.53480</td>\n",
       "      <td>weather_station</td>\n",
       "      <td>1</td>\n",
       "    </tr>\n",
       "    <tr>\n",
       "      <th>61</th>\n",
       "      <td>41.393100</td>\n",
       "      <td>-70.61500</td>\n",
       "      <td>weather_station</td>\n",
       "      <td>0</td>\n",
       "    </tr>\n",
       "    <tr>\n",
       "      <th>63</th>\n",
       "      <td>41.721900</td>\n",
       "      <td>-71.43250</td>\n",
       "      <td>weather_station</td>\n",
       "      <td>0</td>\n",
       "    </tr>\n",
       "    <tr>\n",
       "      <th>65</th>\n",
       "      <td>41.170000</td>\n",
       "      <td>-71.58000</td>\n",
       "      <td>weather_station</td>\n",
       "      <td>1</td>\n",
       "    </tr>\n",
       "    <tr>\n",
       "      <th>66</th>\n",
       "      <td>42.900000</td>\n",
       "      <td>-72.27000</td>\n",
       "      <td>weather_station</td>\n",
       "      <td>1</td>\n",
       "    </tr>\n",
       "    <tr>\n",
       "      <th>67</th>\n",
       "      <td>41.938100</td>\n",
       "      <td>-72.68250</td>\n",
       "      <td>weather_station</td>\n",
       "      <td>1</td>\n",
       "    </tr>\n",
       "    <tr>\n",
       "      <th>70</th>\n",
       "      <td>42.157800</td>\n",
       "      <td>-72.71610</td>\n",
       "      <td>weather_station</td>\n",
       "      <td>1</td>\n",
       "    </tr>\n",
       "    <tr>\n",
       "      <th>71</th>\n",
       "      <td>41.349700</td>\n",
       "      <td>-71.79890</td>\n",
       "      <td>weather_station</td>\n",
       "      <td>1</td>\n",
       "    </tr>\n",
       "    <tr>\n",
       "      <th>72</th>\n",
       "      <td>42.267300</td>\n",
       "      <td>-71.87570</td>\n",
       "      <td>weather_station</td>\n",
       "      <td>1</td>\n",
       "    </tr>\n",
       "    <tr>\n",
       "      <th>76</th>\n",
       "      <td>41.263800</td>\n",
       "      <td>-72.88680</td>\n",
       "      <td>weather_station</td>\n",
       "      <td>1</td>\n",
       "    </tr>\n",
       "    <tr>\n",
       "      <th>77</th>\n",
       "      <td>42.098200</td>\n",
       "      <td>-70.67210</td>\n",
       "      <td>weather_station</td>\n",
       "      <td>0</td>\n",
       "    </tr>\n",
       "    <tr>\n",
       "      <th>78</th>\n",
       "      <td>42.570100</td>\n",
       "      <td>-72.28860</td>\n",
       "      <td>weather_station</td>\n",
       "      <td>1</td>\n",
       "    </tr>\n",
       "    <tr>\n",
       "      <th>81</th>\n",
       "      <td>41.875600</td>\n",
       "      <td>-71.02110</td>\n",
       "      <td>weather_station</td>\n",
       "      <td>0</td>\n",
       "    </tr>\n",
       "  </tbody>\n",
       "</table>\n",
       "</div>"
      ],
      "text/plain": [
       "     latitude  longitude               type              label\n",
       "0   42.361145  -71.05708  population_center  population_center\n",
       "1   41.763710  -72.68510  population_center  population_center\n",
       "2   42.191200  -71.17330    weather_station                  0\n",
       "4   41.741900  -72.18360    weather_station                  1\n",
       "7   41.330000  -72.05000    weather_station                  1\n",
       "8   42.781800  -71.51480    weather_station                  0\n",
       "9   41.736700  -72.64940    weather_station                  1\n",
       "10  41.658500  -70.52150    weather_station                  0\n",
       "11  42.932800  -71.43570    weather_station                  0\n",
       "15  41.383900  -72.50590    weather_station                  1\n",
       "18  41.253100  -70.06030    weather_station                  0\n",
       "19  42.551900  -71.75580    weather_station                  0\n",
       "20  41.597100  -71.41210    weather_station                  0\n",
       "22  42.717200  -71.12340    weather_station                  0\n",
       "23  41.510000  -72.83000    weather_station                  1\n",
       "25  42.805100  -72.00300    weather_station                  0\n",
       "29  41.909000  -70.72880    weather_station                  0\n",
       "32  41.532400  -71.28150    weather_station                  0\n",
       "35  41.676400  -70.95830    weather_station                  0\n",
       "38  41.920800  -71.49140    weather_station                  0\n",
       "46  42.360600  -71.00970    weather_station                  0\n",
       "49  41.670000  -70.28000    weather_station                  0\n",
       "50  42.469900  -71.28900    weather_station                  0\n",
       "56  42.584100  -70.91610    weather_station                  0\n",
       "58  42.070000  -70.22000    weather_station                  0\n",
       "59  42.194000  -72.53480    weather_station                  1\n",
       "61  41.393100  -70.61500    weather_station                  0\n",
       "63  41.721900  -71.43250    weather_station                  0\n",
       "65  41.170000  -71.58000    weather_station                  1\n",
       "66  42.900000  -72.27000    weather_station                  1\n",
       "67  41.938100  -72.68250    weather_station                  1\n",
       "70  42.157800  -72.71610    weather_station                  1\n",
       "71  41.349700  -71.79890    weather_station                  1\n",
       "72  42.267300  -71.87570    weather_station                  1\n",
       "76  41.263800  -72.88680    weather_station                  1\n",
       "77  42.098200  -70.67210    weather_station                  0\n",
       "78  42.570100  -72.28860    weather_station                  1\n",
       "81  41.875600  -71.02110    weather_station                  0"
      ]
     },
     "execution_count": 21,
     "metadata": {},
     "output_type": "execute_result"
    }
   ],
   "source": [
    "relevant_points['label'] = 'population_center'\n",
    "relevant_points.loc[2:, 'label'] = labels[2]\n",
    "relevant_points"
   ]
  },
  {
   "cell_type": "code",
   "execution_count": 22,
   "id": "fcddfb5e-6c70-4893-94b7-b053bfbbadfe",
   "metadata": {
    "tags": []
   },
   "outputs": [
    {
     "data": {
      "text/plain": [
       "<matplotlib.legend.Legend at 0x7f18cffc7730>"
      ]
     },
     "execution_count": 22,
     "metadata": {},
     "output_type": "execute_result"
    },
    {
     "data": {
      "image/png": "[encoded data removed]",
      "text/plain": [
       "<Figure size 640x480 with 1 Axes>"
      ]
     },
     "metadata": {},
     "output_type": "display_data"
    }
   ],
   "source": [
    "g = sns.scatterplot(relevant_points, x='longitude', y='latitude', hue='label')\n",
    "g.legend(loc='center left', bbox_to_anchor=(1.25, 0.5), ncol=1)"
   ]
  },
  {
   "cell_type": "code",
   "execution_count": 23,
   "id": "6895f180-7411-4ae0-bb78-864b9d115c08",
   "metadata": {
    "tags": []
   },
   "outputs": [],
   "source": [
    "hartford_area = tuple(relevant_points.loc[relevant_points['label'] == 1, ['latitude', 'longitude']].itertuples(index=False, name=None))\n",
    "boston_area = tuple(relevant_points.loc[relevant_points['label'] == 0, ['latitude', 'longitude']].itertuples(index=False, name=None))\n",
    "area_params = [boston_area, hartford_area]"
   ]
  },
  {
   "cell_type": "code",
   "execution_count": 22,
   "id": "60dffe22-4f86-4bec-b459-64b3300a3712",
   "metadata": {
    "tags": []
   },
   "outputs": [],
   "source": [
    "dfs = list()\n",
    "\n",
    "with engine.connect() as conn:\n",
    "    for params in area_params:\n",
    "        values = \", \".join(str((str(lat), str(lon))) for (lat, lon) in params)\n",
    "        stmt = '''SELECT \n",
    "            weather_datetime, \n",
    "            AVG(NULLIF(apparent_temperature, 'NaN')) apparent_temperature_avg, \n",
    "            AVG(NULLIF(air_temperature, 'NaN')) air_temperature_avg, \n",
    "            AVG(NULLIF(dewpoint_temperature, 'NaN')) dewpoint_temperature_avg,\n",
    "            AVG(NULLIF(relative_humidity, 'NaN')) relative_humidity_avg,\n",
    "            AVG(NULLIF(total_precipitation, 'NaN')) total_precipitation_avg, \n",
    "            AVG(NULLIF(wind_speed, 'NaN')) wind_speed_avg\n",
    "            FROM weather_historical\n",
    "            WHERE (latitude, longitude) IN ({})\n",
    "            GROUP BY weather_datetime\n",
    "            ORDER BY weather_datetime ASC;'''.format(values)\n",
    "        df = pd.read_sql(sql=text(stmt), con=conn)\n",
    "        dfs.append(df)"
   ]
  },
  {
   "cell_type": "code",
   "execution_count": 23,
   "id": "91eb4ee1-ffa9-4ce7-87f9-d8995624b975",
   "metadata": {
    "tags": []
   },
   "outputs": [],
   "source": [
    "with engine.connect() as conn:\n",
    "    load_historical = pd.read_sql(sql=text(\"SELECT DISTINCT load_datetime, load_mw FROM grid_load;\"), con=conn)"
   ]
  },
  {
   "cell_type": "code",
   "execution_count": 24,
   "id": "072ecf01-4557-4ae0-8faa-0f4628e6fbe6",
   "metadata": {
    "tags": []
   },
   "outputs": [],
   "source": [
    "stmt = \"\"\"SELECT DISTINCT gf.forecasted_at, gf.forecasted_for, gf.load_mw FROM grid_forecast gf \n",
    "INNER JOIN (SELECT MAX(forecasted_at) MaxDate, forecasted_for FROM grid_forecast group by forecasted_for) tm\n",
    "ON tm.forecasted_for = gf.forecasted_for AND gf.forecasted_at = tm.MaxDate;\"\"\"\n",
    "with engine.connect() as conn:\n",
    "    load_forecast = pd.read_sql(sql=text(stmt), con=conn)"
   ]
  },
  {
   "cell_type": "code",
   "execution_count": 25,
   "id": "1747217a-e629-4ab3-9c8c-ec755978f525",
   "metadata": {
    "tags": []
   },
   "outputs": [],
   "source": [
    "boston_area_weather = dfs[0].rename(columns={c:'boston_area_'+c for c in dfs[0].columns if c not in ['weather_datetime']})\n",
    "hartford_area_weather = dfs[1].rename(columns={c:'hartford_area_'+c for c in dfs[1].columns if c not in ['weather_datetime']})"
   ]
  },
  {
   "cell_type": "code",
   "execution_count": 26,
   "id": "08669bf8-b940-4dce-82a6-415132736e5b",
   "metadata": {
    "tags": []
   },
   "outputs": [],
   "source": [
    "two_cluster_weather = boston_area_weather.merge(hartford_area_weather, on='weather_datetime', how='inner')\n",
    "two_cluster_weather['weather_datetime'] = two_cluster_weather['weather_datetime'].astype('datetime64')"
   ]
  },
  {
   "cell_type": "code",
   "execution_count": 30,
   "id": "641e9bd3-6c53-482e-8cfe-ce3a07a219dd",
   "metadata": {
    "tags": []
   },
   "outputs": [],
   "source": [
    "load_historical = load_historical.drop_duplicates()"
   ]
  },
  {
   "cell_type": "code",
   "execution_count": 31,
   "id": "1dbd7dee-1bdd-44eb-8965-c2bce6a8c370",
   "metadata": {
    "tags": []
   },
   "outputs": [],
   "source": [
    "data = (\n",
    "    two_cluster_weather\n",
    "    .merge(\n",
    "        load_historical, \n",
    "        left_on='weather_datetime', \n",
    "        right_on='load_datetime', \n",
    "        how='inner', indicator=True)\n",
    "    .drop(columns=['_merge', 'weather_datetime'])\n",
    ")"
   ]
  },
  {
   "cell_type": "code",
   "execution_count": 43,
   "id": "c03c48b6",
   "metadata": {},
   "outputs": [
    {
     "data": {
      "text/plain": [
       "['.git', 'New-England-Load-Forecasting']"
      ]
     },
     "execution_count": 43,
     "metadata": {},
     "output_type": "execute_result"
    }
   ],
   "source": [
    "os.listdir('work/New-England-Load-Forecasting/')"
   ]
  },
  {
   "cell_type": "code",
   "execution_count": 28,
   "id": "e7666595",
   "metadata": {},
   "outputs": [],
   "source": [
    "load_forecast.to_csv('work/New-England-Load-Forecasting/analysis/official_forecasts.csv')"
   ]
  },
  {
   "cell_type": "code",
   "execution_count": 39,
   "id": "bc3a733a",
   "metadata": {},
   "outputs": [
    {
     "data": {
      "text/plain": [
       "['.bash_logout',\n",
       " '.bashrc',\n",
       " '.profile',\n",
       " '.cache',\n",
       " '.local',\n",
       " '.ipython',\n",
       " '.ipynb_checkpoints',\n",
       " '.config',\n",
       " '.conda',\n",
       " '.jupyter',\n",
       " '.npm',\n",
       " '.wget-hsts',\n",
       " 'work']"
      ]
     },
     "execution_count": 39,
     "metadata": {},
     "output_type": "execute_result"
    }
   ],
   "source": [
    "data = pd.read_csv('../analysis/clean_data.csv', index_col=0)"
   ]
  },
  {
   "cell_type": "code",
   "execution_count": 29,
   "id": "1fb857ac",
   "metadata": {},
   "outputs": [],
   "source": [
    "data = pd.read_csv('work/New-England-Load-Forecasting/analysis/clean_data.csv', index_col=0)"
   ]
  },
  {
   "cell_type": "code",
   "execution_count": 30,
   "id": "7c430838",
   "metadata": {},
   "outputs": [],
   "source": [
    "data['load_datetime'] = pd.to_datetime(data['load_datetime'])\n",
    "data['is_weekday'] = np.where(data['load_datetime'].dt.dayofweek >= 5, 0, 1)"
   ]
  },
  {
   "cell_type": "code",
   "execution_count": 31,
   "id": "dc474fb6",
   "metadata": {},
   "outputs": [],
   "source": [
    "prophet_train = data.loc[data['load_datetime'] <= '2023-03-10',['load_datetime','boston_area_apparent_temperature_avg', 'hartford_area_apparent_temperature_avg', 'load_mw', 'is_weekday']].rename({'load_datetime': 'ds', 'load_mw': 'y'}, axis=1).sort_values('ds')\n",
    "prophet_test = data.loc[data['load_datetime'] > '2023-03-10',['load_datetime','boston_area_apparent_temperature_avg', 'hartford_area_apparent_temperature_avg', 'load_mw', 'is_weekday']].rename({'load_datetime': 'ds', 'load_mw': 'y'}, axis=1).sort_values('ds')"
   ]
  },
  {
   "cell_type": "code",
   "execution_count": 32,
   "id": "ae1af520",
   "metadata": {},
   "outputs": [],
   "source": [
    "import itertools\n",
    "from prophet.diagnostics import performance_metrics, cross_validation\n",
    "param_grid = {\n",
    "    'changepoint_prior_scale': [.001, .01, .1, .5],\n",
    "    'seasonality_prior_scale': [.01, .1, 1, 10, 100]\n",
    "}\n",
    "all_params = [dict(zip(param_grid.keys(), v)) for v in itertools.product(*param_grid.values())]\n",
    "rmses = []"
   ]
  },
  {
   "cell_type": "code",
   "execution_count": 33,
   "id": "1fc44d97",
   "metadata": {},
   "outputs": [
    {
     "name": "stderr",
     "output_type": "stream",
     "text": [
      "17:59:03 - cmdstanpy - INFO - Chain [1] start processing\n",
      "17:59:15 - cmdstanpy - INFO - Chain [1] done processing\n"
     ]
    },
    {
     "ename": "",
     "evalue": "",
     "output_type": "error",
     "traceback": [
      "\u001b[1;31mThe Kernel crashed while executing code in the the current cell or a previous cell. Please review the code in the cell(s) to identify a possible cause of the failure. Click <a href='https://aka.ms/vscodeJupyterKernelCrash'>here</a> for more info. View Jupyter <a href='command:jupyter.viewOutput'>log</a> for further details."
     ]
    },
    {
     "ename": "",
     "evalue": "",
     "output_type": "error",
     "traceback": [
      "\u001b[1;31mCanceled future for execute_request message before replies were done"
     ]
    }
   ],
   "source": [
    "for params in all_params:\n",
    "    m = Prophet(**params)\n",
    "    m.add_country_holidays(country_name='US')\n",
    "    m.add_regressor('boston_area_apparent_temperature_avg')\n",
    "    m.add_regressor('hartford_area_apparent_temperature_avg')\n",
    "    m.add_regressor('is_weekday')\n",
    "    m.fit(prophet_train)\n",
    "    df_cv = cross_validation(m, initial='1460 days', horizon='7 days', period='24 hours', parallel='threads')\n",
    "    df_p = performance_metrics(df_cv, rolling_window=1)\n",
    "    rmses.append(df_p['rmse'].values[0])"
   ]
  },
  {
   "cell_type": "code",
   "execution_count": null,
   "id": "ad051298",
   "metadata": {},
   "outputs": [],
   "source": [
    "tuning_results = pd.DataFrame(all_params)\n",
    "tuning_results['rmse'] = rmses\n",
    "tuning_results"
   ]
  },
  {
   "cell_type": "code",
   "execution_count": 93,
   "id": "e86bb7f2",
   "metadata": {},
   "outputs": [],
   "source": [
    "predictions = m.predict(prophet_test)"
   ]
  },
  {
   "cell_type": "code",
   "execution_count": 89,
   "id": "64c76cf5",
   "metadata": {},
   "outputs": [
    {
     "data": {
      "text/html": [
       "<div>\n",
       "<style scoped>\n",
       "    .dataframe tbody tr th:only-of-type {\n",
       "        vertical-align: middle;\n",
       "    }\n",
       "\n",
       "    .dataframe tbody tr th {\n",
       "        vertical-align: top;\n",
       "    }\n",
       "\n",
       "    .dataframe thead th {\n",
       "        text-align: right;\n",
       "    }\n",
       "</style>\n",
       "<table border=\"1\" class=\"dataframe\">\n",
       "  <thead>\n",
       "    <tr style=\"text-align: right;\">\n",
       "      <th></th>\n",
       "      <th>forecasted_at</th>\n",
       "      <th>forecasted_for</th>\n",
       "      <th>load_mw</th>\n",
       "    </tr>\n",
       "  </thead>\n",
       "  <tbody>\n",
       "    <tr>\n",
       "      <th>0</th>\n",
       "      <td>2019-01-01 09:42:02</td>\n",
       "      <td>2019-01-01 00:00:00</td>\n",
       "      <td>11500.0</td>\n",
       "    </tr>\n",
       "    <tr>\n",
       "      <th>1</th>\n",
       "      <td>2019-01-01 09:42:02</td>\n",
       "      <td>2019-01-01 01:00:00</td>\n",
       "      <td>10960.0</td>\n",
       "    </tr>\n",
       "    <tr>\n",
       "      <th>2</th>\n",
       "      <td>2019-01-01 09:42:02</td>\n",
       "      <td>2019-01-01 02:00:00</td>\n",
       "      <td>10560.0</td>\n",
       "    </tr>\n",
       "    <tr>\n",
       "      <th>3</th>\n",
       "      <td>2019-01-01 09:42:02</td>\n",
       "      <td>2019-01-01 03:00:00</td>\n",
       "      <td>10300.0</td>\n",
       "    </tr>\n",
       "    <tr>\n",
       "      <th>4</th>\n",
       "      <td>2019-01-01 09:42:02</td>\n",
       "      <td>2019-01-01 04:00:00</td>\n",
       "      <td>10250.0</td>\n",
       "    </tr>\n",
       "    <tr>\n",
       "      <th>...</th>\n",
       "      <td>...</td>\n",
       "      <td>...</td>\n",
       "      <td>...</td>\n",
       "    </tr>\n",
       "    <tr>\n",
       "      <th>37094</th>\n",
       "      <td>2023-03-24 09:23:39</td>\n",
       "      <td>2023-03-26 19:00:00</td>\n",
       "      <td>13500.0</td>\n",
       "    </tr>\n",
       "    <tr>\n",
       "      <th>37095</th>\n",
       "      <td>2023-03-24 09:23:39</td>\n",
       "      <td>2023-03-26 20:00:00</td>\n",
       "      <td>13070.0</td>\n",
       "    </tr>\n",
       "    <tr>\n",
       "      <th>37096</th>\n",
       "      <td>2023-03-24 09:23:39</td>\n",
       "      <td>2023-03-26 21:00:00</td>\n",
       "      <td>12350.0</td>\n",
       "    </tr>\n",
       "    <tr>\n",
       "      <th>37097</th>\n",
       "      <td>2023-03-24 09:23:39</td>\n",
       "      <td>2023-03-26 22:00:00</td>\n",
       "      <td>11560.0</td>\n",
       "    </tr>\n",
       "    <tr>\n",
       "      <th>37098</th>\n",
       "      <td>2023-03-24 09:23:39</td>\n",
       "      <td>2023-03-26 23:00:00</td>\n",
       "      <td>10810.0</td>\n",
       "    </tr>\n",
       "  </tbody>\n",
       "</table>\n",
       "<p>37099 rows × 3 columns</p>\n",
       "</div>"
      ],
      "text/plain": [
       "            forecasted_at      forecasted_for  load_mw\n",
       "0     2019-01-01 09:42:02 2019-01-01 00:00:00  11500.0\n",
       "1     2019-01-01 09:42:02 2019-01-01 01:00:00  10960.0\n",
       "2     2019-01-01 09:42:02 2019-01-01 02:00:00  10560.0\n",
       "3     2019-01-01 09:42:02 2019-01-01 03:00:00  10300.0\n",
       "4     2019-01-01 09:42:02 2019-01-01 04:00:00  10250.0\n",
       "...                   ...                 ...      ...\n",
       "37094 2023-03-24 09:23:39 2023-03-26 19:00:00  13500.0\n",
       "37095 2023-03-24 09:23:39 2023-03-26 20:00:00  13070.0\n",
       "37096 2023-03-24 09:23:39 2023-03-26 21:00:00  12350.0\n",
       "37097 2023-03-24 09:23:39 2023-03-26 22:00:00  11560.0\n",
       "37098 2023-03-24 09:23:39 2023-03-26 23:00:00  10810.0\n",
       "\n",
       "[37099 rows x 3 columns]"
      ]
     },
     "execution_count": 89,
     "metadata": {},
     "output_type": "execute_result"
    }
   ],
   "source": [
    "load_forecast"
   ]
  },
  {
   "cell_type": "code",
   "execution_count": 94,
   "id": "2053300f",
   "metadata": {},
   "outputs": [
    {
     "data": {
      "text/html": [
       "<div>\n",
       "<style scoped>\n",
       "    .dataframe tbody tr th:only-of-type {\n",
       "        vertical-align: middle;\n",
       "    }\n",
       "\n",
       "    .dataframe tbody tr th {\n",
       "        vertical-align: top;\n",
       "    }\n",
       "\n",
       "    .dataframe thead th {\n",
       "        text-align: right;\n",
       "    }\n",
       "</style>\n",
       "<table border=\"1\" class=\"dataframe\">\n",
       "  <thead>\n",
       "    <tr style=\"text-align: right;\">\n",
       "      <th></th>\n",
       "      <th>yhat</th>\n",
       "      <th>y</th>\n",
       "      <th>iso_forecast</th>\n",
       "    </tr>\n",
       "    <tr>\n",
       "      <th>ds</th>\n",
       "      <th></th>\n",
       "      <th></th>\n",
       "      <th></th>\n",
       "    </tr>\n",
       "  </thead>\n",
       "  <tbody>\n",
       "    <tr>\n",
       "      <th>2023-03-20 01:00:00</th>\n",
       "      <td>9918.121282</td>\n",
       "      <td>11962.518</td>\n",
       "      <td>11090.0</td>\n",
       "    </tr>\n",
       "    <tr>\n",
       "      <th>2023-03-20 02:00:00</th>\n",
       "      <td>9761.776423</td>\n",
       "      <td>11886.617</td>\n",
       "      <td>11040.0</td>\n",
       "    </tr>\n",
       "    <tr>\n",
       "      <th>2023-03-20 03:00:00</th>\n",
       "      <td>9766.263252</td>\n",
       "      <td>11953.694</td>\n",
       "      <td>11060.0</td>\n",
       "    </tr>\n",
       "    <tr>\n",
       "      <th>2023-03-20 04:00:00</th>\n",
       "      <td>10030.528224</td>\n",
       "      <td>12109.241</td>\n",
       "      <td>11430.0</td>\n",
       "    </tr>\n",
       "    <tr>\n",
       "      <th>2023-03-20 05:00:00</th>\n",
       "      <td>10560.641525</td>\n",
       "      <td>12589.660</td>\n",
       "      <td>12300.0</td>\n",
       "    </tr>\n",
       "    <tr>\n",
       "      <th>...</th>\n",
       "      <td>...</td>\n",
       "      <td>...</td>\n",
       "      <td>...</td>\n",
       "    </tr>\n",
       "    <tr>\n",
       "      <th>2023-03-23 19:00:00</th>\n",
       "      <td>14078.204868</td>\n",
       "      <td>13881.286</td>\n",
       "      <td>13940.0</td>\n",
       "    </tr>\n",
       "    <tr>\n",
       "      <th>2023-03-23 20:00:00</th>\n",
       "      <td>13476.535604</td>\n",
       "      <td>13472.341</td>\n",
       "      <td>13450.0</td>\n",
       "    </tr>\n",
       "    <tr>\n",
       "      <th>2023-03-23 21:00:00</th>\n",
       "      <td>12546.971613</td>\n",
       "      <td>12674.921</td>\n",
       "      <td>12630.0</td>\n",
       "    </tr>\n",
       "    <tr>\n",
       "      <th>2023-03-23 22:00:00</th>\n",
       "      <td>11566.718040</td>\n",
       "      <td>11677.522</td>\n",
       "      <td>11660.0</td>\n",
       "    </tr>\n",
       "    <tr>\n",
       "      <th>2023-03-23 23:00:00</th>\n",
       "      <td>10774.900087</td>\n",
       "      <td>10741.860</td>\n",
       "      <td>10780.0</td>\n",
       "    </tr>\n",
       "  </tbody>\n",
       "</table>\n",
       "<p>94 rows × 3 columns</p>\n",
       "</div>"
      ],
      "text/plain": [
       "                             yhat          y  iso_forecast\n",
       "ds                                                        \n",
       "2023-03-20 01:00:00   9918.121282  11962.518       11090.0\n",
       "2023-03-20 02:00:00   9761.776423  11886.617       11040.0\n",
       "2023-03-20 03:00:00   9766.263252  11953.694       11060.0\n",
       "2023-03-20 04:00:00  10030.528224  12109.241       11430.0\n",
       "2023-03-20 05:00:00  10560.641525  12589.660       12300.0\n",
       "...                           ...        ...           ...\n",
       "2023-03-23 19:00:00  14078.204868  13881.286       13940.0\n",
       "2023-03-23 20:00:00  13476.535604  13472.341       13450.0\n",
       "2023-03-23 21:00:00  12546.971613  12674.921       12630.0\n",
       "2023-03-23 22:00:00  11566.718040  11677.522       11660.0\n",
       "2023-03-23 23:00:00  10774.900087  10741.860       10780.0\n",
       "\n",
       "[94 rows x 3 columns]"
      ]
     },
     "execution_count": 94,
     "metadata": {},
     "output_type": "execute_result"
    }
   ],
   "source": [
    "merged_predictions = predictions[['ds', 'yhat']].merge(prophet_test[['y', 'ds']]).merge(load_forecast[['load_mw', 'forecasted_for']].rename(columns={'load_mw': 'iso_forecast', 'forecasted_for': 'ds'}), on='ds').set_index('ds')\n",
    "merged_predictions"
   ]
  },
  {
   "cell_type": "code",
   "execution_count": 95,
   "id": "ce390bee",
   "metadata": {},
   "outputs": [
    {
     "data": {
      "text/plain": [
       "<Axes: xlabel='ds'>"
      ]
     },
     "execution_count": 95,
     "metadata": {},
     "output_type": "execute_result"
    },
    {
     "data": {
      "image/png": "[encoded data removed]",
      "text/plain": [
       "<Figure size 640x480 with 1 Axes>"
      ]
     },
     "metadata": {},
     "output_type": "display_data"
    }
   ],
   "source": [
    "merged_predictions.plot()"
   ]
  },
  {
   "cell_type": "code",
   "execution_count": 71,
   "id": "55af2fa3",
   "metadata": {},
   "outputs": [
    {
     "data": {
      "text/plain": [
       "False    13\n",
       "True     10\n",
       "dtype: int64"
      ]
     },
     "execution_count": 71,
     "metadata": {},
     "output_type": "execute_result"
    }
   ],
   "source": [
    "((merged_predictions[:'2023-03-20']['y'] - merged_predictions[:'2023-03-20']['yhat']) < (merged_predictions[:'2023-03-20']['y'] - merged_predictions[:'2023-03-20']['iso_forecast'])).value_counts()"
   ]
  },
  {
   "cell_type": "code",
   "execution_count": 72,
   "id": "80dfc1c4",
   "metadata": {},
   "outputs": [
    {
     "data": {
      "text/plain": [
       "<Axes: xlabel='ds'>"
      ]
     },
     "execution_count": 72,
     "metadata": {},
     "output_type": "execute_result"
    },
    {
     "data": {
      "image/png": "[encoded data removed]",
      "text/plain": [
       "<Figure size 640x480 with 1 Axes>"
      ]
     },
     "metadata": {},
     "output_type": "display_data"
    }
   ],
   "source": [
    "sns.lineplot(merged_y_yhat)"
   ]
  },
  {
   "cell_type": "code",
   "execution_count": 51,
   "id": "de004727",
   "metadata": {},
   "outputs": [
    {
     "data": {
      "text/html": [
       "<div>\n",
       "<style scoped>\n",
       "    .dataframe tbody tr th:only-of-type {\n",
       "        vertical-align: middle;\n",
       "    }\n",
       "\n",
       "    .dataframe tbody tr th {\n",
       "        vertical-align: top;\n",
       "    }\n",
       "\n",
       "    .dataframe thead th {\n",
       "        text-align: right;\n",
       "    }\n",
       "</style>\n",
       "<table border=\"1\" class=\"dataframe\">\n",
       "  <thead>\n",
       "    <tr style=\"text-align: right;\">\n",
       "      <th></th>\n",
       "      <th>ds</th>\n",
       "      <th>trend</th>\n",
       "      <th>yhat_lower</th>\n",
       "      <th>yhat_upper</th>\n",
       "      <th>trend_lower</th>\n",
       "      <th>trend_upper</th>\n",
       "      <th>Christmas Day</th>\n",
       "      <th>Christmas Day_lower</th>\n",
       "      <th>Christmas Day_upper</th>\n",
       "      <th>Christmas Day (Observed)</th>\n",
       "      <th>...</th>\n",
       "      <th>weekly</th>\n",
       "      <th>weekly_lower</th>\n",
       "      <th>weekly_upper</th>\n",
       "      <th>yearly</th>\n",
       "      <th>yearly_lower</th>\n",
       "      <th>yearly_upper</th>\n",
       "      <th>multiplicative_terms</th>\n",
       "      <th>multiplicative_terms_lower</th>\n",
       "      <th>multiplicative_terms_upper</th>\n",
       "      <th>yhat</th>\n",
       "    </tr>\n",
       "  </thead>\n",
       "  <tbody>\n",
       "    <tr>\n",
       "      <th>0</th>\n",
       "      <td>2022-05-19 10:00:00</td>\n",
       "      <td>12648.668211</td>\n",
       "      <td>10046.587328</td>\n",
       "      <td>13567.149176</td>\n",
       "      <td>12648.668211</td>\n",
       "      <td>12648.668211</td>\n",
       "      <td>0.0</td>\n",
       "      <td>0.0</td>\n",
       "      <td>0.0</td>\n",
       "      <td>0.0</td>\n",
       "      <td>...</td>\n",
       "      <td>233.259529</td>\n",
       "      <td>233.259529</td>\n",
       "      <td>233.259529</td>\n",
       "      <td>-1716.255273</td>\n",
       "      <td>-1716.255273</td>\n",
       "      <td>-1716.255273</td>\n",
       "      <td>0.0</td>\n",
       "      <td>0.0</td>\n",
       "      <td>0.0</td>\n",
       "      <td>11835.692309</td>\n",
       "    </tr>\n",
       "    <tr>\n",
       "      <th>1</th>\n",
       "      <td>2022-05-19 11:00:00</td>\n",
       "      <td>12648.441904</td>\n",
       "      <td>9888.312901</td>\n",
       "      <td>13530.104471</td>\n",
       "      <td>12648.441904</td>\n",
       "      <td>12648.441904</td>\n",
       "      <td>0.0</td>\n",
       "      <td>0.0</td>\n",
       "      <td>0.0</td>\n",
       "      <td>0.0</td>\n",
       "      <td>...</td>\n",
       "      <td>227.453181</td>\n",
       "      <td>227.453181</td>\n",
       "      <td>227.453181</td>\n",
       "      <td>-1713.741283</td>\n",
       "      <td>-1713.741283</td>\n",
       "      <td>-1713.741283</td>\n",
       "      <td>0.0</td>\n",
       "      <td>0.0</td>\n",
       "      <td>0.0</td>\n",
       "      <td>11790.086321</td>\n",
       "    </tr>\n",
       "    <tr>\n",
       "      <th>2</th>\n",
       "      <td>2022-05-19 12:00:00</td>\n",
       "      <td>12648.215597</td>\n",
       "      <td>10170.491367</td>\n",
       "      <td>13513.653830</td>\n",
       "      <td>12648.215597</td>\n",
       "      <td>12648.215597</td>\n",
       "      <td>0.0</td>\n",
       "      <td>0.0</td>\n",
       "      <td>0.0</td>\n",
       "      <td>0.0</td>\n",
       "      <td>...</td>\n",
       "      <td>221.259015</td>\n",
       "      <td>221.259015</td>\n",
       "      <td>221.259015</td>\n",
       "      <td>-1711.218789</td>\n",
       "      <td>-1711.218789</td>\n",
       "      <td>-1711.218789</td>\n",
       "      <td>0.0</td>\n",
       "      <td>0.0</td>\n",
       "      <td>0.0</td>\n",
       "      <td>11842.134383</td>\n",
       "    </tr>\n",
       "    <tr>\n",
       "      <th>3</th>\n",
       "      <td>2022-05-19 13:00:00</td>\n",
       "      <td>12647.989291</td>\n",
       "      <td>10225.408691</td>\n",
       "      <td>13702.879073</td>\n",
       "      <td>12647.989291</td>\n",
       "      <td>12647.989291</td>\n",
       "      <td>0.0</td>\n",
       "      <td>0.0</td>\n",
       "      <td>0.0</td>\n",
       "      <td>0.0</td>\n",
       "      <td>...</td>\n",
       "      <td>214.725061</td>\n",
       "      <td>214.725061</td>\n",
       "      <td>214.725061</td>\n",
       "      <td>-1708.687806</td>\n",
       "      <td>-1708.687806</td>\n",
       "      <td>-1708.687806</td>\n",
       "      <td>0.0</td>\n",
       "      <td>0.0</td>\n",
       "      <td>0.0</td>\n",
       "      <td>11978.674234</td>\n",
       "    </tr>\n",
       "    <tr>\n",
       "      <th>4</th>\n",
       "      <td>2022-05-19 14:00:00</td>\n",
       "      <td>12647.762984</td>\n",
       "      <td>10419.968719</td>\n",
       "      <td>13802.275666</td>\n",
       "      <td>12647.762984</td>\n",
       "      <td>12647.762984</td>\n",
       "      <td>0.0</td>\n",
       "      <td>0.0</td>\n",
       "      <td>0.0</td>\n",
       "      <td>0.0</td>\n",
       "      <td>...</td>\n",
       "      <td>207.898860</td>\n",
       "      <td>207.898860</td>\n",
       "      <td>207.898860</td>\n",
       "      <td>-1706.148348</td>\n",
       "      <td>-1706.148348</td>\n",
       "      <td>-1706.148348</td>\n",
       "      <td>0.0</td>\n",
       "      <td>0.0</td>\n",
       "      <td>0.0</td>\n",
       "      <td>12189.353706</td>\n",
       "    </tr>\n",
       "    <tr>\n",
       "      <th>...</th>\n",
       "      <td>...</td>\n",
       "      <td>...</td>\n",
       "      <td>...</td>\n",
       "      <td>...</td>\n",
       "      <td>...</td>\n",
       "      <td>...</td>\n",
       "      <td>...</td>\n",
       "      <td>...</td>\n",
       "      <td>...</td>\n",
       "      <td>...</td>\n",
       "      <td>...</td>\n",
       "      <td>...</td>\n",
       "      <td>...</td>\n",
       "      <td>...</td>\n",
       "      <td>...</td>\n",
       "      <td>...</td>\n",
       "      <td>...</td>\n",
       "      <td>...</td>\n",
       "      <td>...</td>\n",
       "      <td>...</td>\n",
       "      <td>...</td>\n",
       "    </tr>\n",
       "    <tr>\n",
       "      <th>7399</th>\n",
       "      <td>2023-03-23 19:00:00</td>\n",
       "      <td>10973.770709</td>\n",
       "      <td>2271.715040</td>\n",
       "      <td>21778.907783</td>\n",
       "      <td>419.928790</td>\n",
       "      <td>19976.388934</td>\n",
       "      <td>0.0</td>\n",
       "      <td>0.0</td>\n",
       "      <td>0.0</td>\n",
       "      <td>0.0</td>\n",
       "      <td>...</td>\n",
       "      <td>170.900160</td>\n",
       "      <td>170.900160</td>\n",
       "      <td>170.900160</td>\n",
       "      <td>-1073.701535</td>\n",
       "      <td>-1073.701535</td>\n",
       "      <td>-1073.701535</td>\n",
       "      <td>0.0</td>\n",
       "      <td>0.0</td>\n",
       "      <td>0.0</td>\n",
       "      <td>12732.469586</td>\n",
       "    </tr>\n",
       "    <tr>\n",
       "      <th>7400</th>\n",
       "      <td>2023-03-23 20:00:00</td>\n",
       "      <td>10973.544402</td>\n",
       "      <td>1332.098645</td>\n",
       "      <td>21165.461283</td>\n",
       "      <td>415.969683</td>\n",
       "      <td>19977.910852</td>\n",
       "      <td>0.0</td>\n",
       "      <td>0.0</td>\n",
       "      <td>0.0</td>\n",
       "      <td>0.0</td>\n",
       "      <td>...</td>\n",
       "      <td>163.179898</td>\n",
       "      <td>163.179898</td>\n",
       "      <td>163.179898</td>\n",
       "      <td>-1075.733095</td>\n",
       "      <td>-1075.733095</td>\n",
       "      <td>-1075.733095</td>\n",
       "      <td>0.0</td>\n",
       "      <td>0.0</td>\n",
       "      <td>0.0</td>\n",
       "      <td>12136.100654</td>\n",
       "    </tr>\n",
       "    <tr>\n",
       "      <th>7401</th>\n",
       "      <td>2023-03-23 21:00:00</td>\n",
       "      <td>10973.318095</td>\n",
       "      <td>989.727646</td>\n",
       "      <td>20272.858510</td>\n",
       "      <td>412.010575</td>\n",
       "      <td>19979.432769</td>\n",
       "      <td>0.0</td>\n",
       "      <td>0.0</td>\n",
       "      <td>0.0</td>\n",
       "      <td>0.0</td>\n",
       "      <td>...</td>\n",
       "      <td>155.414513</td>\n",
       "      <td>155.414513</td>\n",
       "      <td>155.414513</td>\n",
       "      <td>-1077.759650</td>\n",
       "      <td>-1077.759650</td>\n",
       "      <td>-1077.759650</td>\n",
       "      <td>0.0</td>\n",
       "      <td>0.0</td>\n",
       "      <td>0.0</td>\n",
       "      <td>11209.278897</td>\n",
       "    </tr>\n",
       "    <tr>\n",
       "      <th>7402</th>\n",
       "      <td>2023-03-23 22:00:00</td>\n",
       "      <td>10973.091788</td>\n",
       "      <td>-498.804782</td>\n",
       "      <td>19292.367560</td>\n",
       "      <td>408.051468</td>\n",
       "      <td>19980.954687</td>\n",
       "      <td>0.0</td>\n",
       "      <td>0.0</td>\n",
       "      <td>0.0</td>\n",
       "      <td>0.0</td>\n",
       "      <td>...</td>\n",
       "      <td>147.618755</td>\n",
       "      <td>147.618755</td>\n",
       "      <td>147.618755</td>\n",
       "      <td>-1079.781204</td>\n",
       "      <td>-1079.781204</td>\n",
       "      <td>-1079.781204</td>\n",
       "      <td>0.0</td>\n",
       "      <td>0.0</td>\n",
       "      <td>0.0</td>\n",
       "      <td>10221.880239</td>\n",
       "    </tr>\n",
       "    <tr>\n",
       "      <th>7403</th>\n",
       "      <td>2023-03-23 23:00:00</td>\n",
       "      <td>10972.865481</td>\n",
       "      <td>-1227.623846</td>\n",
       "      <td>18627.054922</td>\n",
       "      <td>404.092361</td>\n",
       "      <td>19982.476605</td>\n",
       "      <td>0.0</td>\n",
       "      <td>0.0</td>\n",
       "      <td>0.0</td>\n",
       "      <td>0.0</td>\n",
       "      <td>...</td>\n",
       "      <td>139.800826</td>\n",
       "      <td>139.800826</td>\n",
       "      <td>139.800826</td>\n",
       "      <td>-1081.797765</td>\n",
       "      <td>-1081.797765</td>\n",
       "      <td>-1081.797765</td>\n",
       "      <td>0.0</td>\n",
       "      <td>0.0</td>\n",
       "      <td>0.0</td>\n",
       "      <td>9416.256268</td>\n",
       "    </tr>\n",
       "  </tbody>\n",
       "</table>\n",
       "<p>7404 rows × 82 columns</p>\n",
       "</div>"
      ],
      "text/plain": [
       "                      ds         trend    yhat_lower    yhat_upper  \\\n",
       "0    2022-05-19 10:00:00  12648.668211  10046.587328  13567.149176   \n",
       "1    2022-05-19 11:00:00  12648.441904   9888.312901  13530.104471   \n",
       "2    2022-05-19 12:00:00  12648.215597  10170.491367  13513.653830   \n",
       "3    2022-05-19 13:00:00  12647.989291  10225.408691  13702.879073   \n",
       "4    2022-05-19 14:00:00  12647.762984  10419.968719  13802.275666   \n",
       "...                  ...           ...           ...           ...   \n",
       "7399 2023-03-23 19:00:00  10973.770709   2271.715040  21778.907783   \n",
       "7400 2023-03-23 20:00:00  10973.544402   1332.098645  21165.461283   \n",
       "7401 2023-03-23 21:00:00  10973.318095    989.727646  20272.858510   \n",
       "7402 2023-03-23 22:00:00  10973.091788   -498.804782  19292.367560   \n",
       "7403 2023-03-23 23:00:00  10972.865481  -1227.623846  18627.054922   \n",
       "\n",
       "       trend_lower   trend_upper  Christmas Day  Christmas Day_lower  \\\n",
       "0     12648.668211  12648.668211            0.0                  0.0   \n",
       "1     12648.441904  12648.441904            0.0                  0.0   \n",
       "2     12648.215597  12648.215597            0.0                  0.0   \n",
       "3     12647.989291  12647.989291            0.0                  0.0   \n",
       "4     12647.762984  12647.762984            0.0                  0.0   \n",
       "...            ...           ...            ...                  ...   \n",
       "7399    419.928790  19976.388934            0.0                  0.0   \n",
       "7400    415.969683  19977.910852            0.0                  0.0   \n",
       "7401    412.010575  19979.432769            0.0                  0.0   \n",
       "7402    408.051468  19980.954687            0.0                  0.0   \n",
       "7403    404.092361  19982.476605            0.0                  0.0   \n",
       "\n",
       "      Christmas Day_upper  Christmas Day (Observed)  ...      weekly  \\\n",
       "0                     0.0                       0.0  ...  233.259529   \n",
       "1                     0.0                       0.0  ...  227.453181   \n",
       "2                     0.0                       0.0  ...  221.259015   \n",
       "3                     0.0                       0.0  ...  214.725061   \n",
       "4                     0.0                       0.0  ...  207.898860   \n",
       "...                   ...                       ...  ...         ...   \n",
       "7399                  0.0                       0.0  ...  170.900160   \n",
       "7400                  0.0                       0.0  ...  163.179898   \n",
       "7401                  0.0                       0.0  ...  155.414513   \n",
       "7402                  0.0                       0.0  ...  147.618755   \n",
       "7403                  0.0                       0.0  ...  139.800826   \n",
       "\n",
       "      weekly_lower  weekly_upper       yearly  yearly_lower  yearly_upper  \\\n",
       "0       233.259529    233.259529 -1716.255273  -1716.255273  -1716.255273   \n",
       "1       227.453181    227.453181 -1713.741283  -1713.741283  -1713.741283   \n",
       "2       221.259015    221.259015 -1711.218789  -1711.218789  -1711.218789   \n",
       "3       214.725061    214.725061 -1708.687806  -1708.687806  -1708.687806   \n",
       "4       207.898860    207.898860 -1706.148348  -1706.148348  -1706.148348   \n",
       "...            ...           ...          ...           ...           ...   \n",
       "7399    170.900160    170.900160 -1073.701535  -1073.701535  -1073.701535   \n",
       "7400    163.179898    163.179898 -1075.733095  -1075.733095  -1075.733095   \n",
       "7401    155.414513    155.414513 -1077.759650  -1077.759650  -1077.759650   \n",
       "7402    147.618755    147.618755 -1079.781204  -1079.781204  -1079.781204   \n",
       "7403    139.800826    139.800826 -1081.797765  -1081.797765  -1081.797765   \n",
       "\n",
       "      multiplicative_terms  multiplicative_terms_lower  \\\n",
       "0                      0.0                         0.0   \n",
       "1                      0.0                         0.0   \n",
       "2                      0.0                         0.0   \n",
       "3                      0.0                         0.0   \n",
       "4                      0.0                         0.0   \n",
       "...                    ...                         ...   \n",
       "7399                   0.0                         0.0   \n",
       "7400                   0.0                         0.0   \n",
       "7401                   0.0                         0.0   \n",
       "7402                   0.0                         0.0   \n",
       "7403                   0.0                         0.0   \n",
       "\n",
       "      multiplicative_terms_upper          yhat  \n",
       "0                            0.0  11835.692309  \n",
       "1                            0.0  11790.086321  \n",
       "2                            0.0  11842.134383  \n",
       "3                            0.0  11978.674234  \n",
       "4                            0.0  12189.353706  \n",
       "...                          ...           ...  \n",
       "7399                         0.0  12732.469586  \n",
       "7400                         0.0  12136.100654  \n",
       "7401                         0.0  11209.278897  \n",
       "7402                         0.0  10221.880239  \n",
       "7403                         0.0   9416.256268  \n",
       "\n",
       "[7404 rows x 82 columns]"
      ]
     },
     "execution_count": 51,
     "metadata": {},
     "output_type": "execute_result"
    }
   ],
   "source": [
    "predictions"
   ]
  },
  {
   "cell_type": "code",
   "execution_count": 53,
   "id": "2278a68c",
   "metadata": {},
   "outputs": [
    {
     "data": {
      "text/html": [
       "<div>\n",
       "<style scoped>\n",
       "    .dataframe tbody tr th:only-of-type {\n",
       "        vertical-align: middle;\n",
       "    }\n",
       "\n",
       "    .dataframe tbody tr th {\n",
       "        vertical-align: top;\n",
       "    }\n",
       "\n",
       "    .dataframe thead th {\n",
       "        text-align: right;\n",
       "    }\n",
       "</style>\n",
       "<table border=\"1\" class=\"dataframe\">\n",
       "  <thead>\n",
       "    <tr style=\"text-align: right;\">\n",
       "      <th></th>\n",
       "      <th>ds</th>\n",
       "      <th>boston_area_apparent_temperature_avg</th>\n",
       "      <th>hartford_area_apparent_temperature_avg</th>\n",
       "      <th>y</th>\n",
       "      <th>is_weekday</th>\n",
       "    </tr>\n",
       "  </thead>\n",
       "  <tbody>\n",
       "    <tr>\n",
       "      <th>29620</th>\n",
       "      <td>2022-05-19 10:00:00</td>\n",
       "      <td>54.828572</td>\n",
       "      <td>52.665833</td>\n",
       "      <td>13117.797</td>\n",
       "      <td>1</td>\n",
       "    </tr>\n",
       "    <tr>\n",
       "      <th>29621</th>\n",
       "      <td>2022-05-19 11:00:00</td>\n",
       "      <td>54.890477</td>\n",
       "      <td>52.884615</td>\n",
       "      <td>13199.001</td>\n",
       "      <td>1</td>\n",
       "    </tr>\n",
       "    <tr>\n",
       "      <th>29622</th>\n",
       "      <td>2022-05-19 12:00:00</td>\n",
       "      <td>55.145455</td>\n",
       "      <td>52.942307</td>\n",
       "      <td>13205.589</td>\n",
       "      <td>1</td>\n",
       "    </tr>\n",
       "    <tr>\n",
       "      <th>29623</th>\n",
       "      <td>2022-05-19 13:00:00</td>\n",
       "      <td>55.404546</td>\n",
       "      <td>53.140769</td>\n",
       "      <td>13116.635</td>\n",
       "      <td>1</td>\n",
       "    </tr>\n",
       "    <tr>\n",
       "      <th>29624</th>\n",
       "      <td>2022-05-19 14:00:00</td>\n",
       "      <td>55.382273</td>\n",
       "      <td>53.659230</td>\n",
       "      <td>12934.000</td>\n",
       "      <td>1</td>\n",
       "    </tr>\n",
       "    <tr>\n",
       "      <th>...</th>\n",
       "      <td>...</td>\n",
       "      <td>...</td>\n",
       "      <td>...</td>\n",
       "      <td>...</td>\n",
       "      <td>...</td>\n",
       "    </tr>\n",
       "    <tr>\n",
       "      <th>37019</th>\n",
       "      <td>2023-03-23 19:00:00</td>\n",
       "      <td>52.330476</td>\n",
       "      <td>50.293076</td>\n",
       "      <td>13881.286</td>\n",
       "      <td>1</td>\n",
       "    </tr>\n",
       "    <tr>\n",
       "      <th>37020</th>\n",
       "      <td>2023-03-23 20:00:00</td>\n",
       "      <td>49.870476</td>\n",
       "      <td>49.656154</td>\n",
       "      <td>13472.341</td>\n",
       "      <td>1</td>\n",
       "    </tr>\n",
       "    <tr>\n",
       "      <th>37021</th>\n",
       "      <td>2023-03-23 21:00:00</td>\n",
       "      <td>49.795238</td>\n",
       "      <td>50.168461</td>\n",
       "      <td>12674.921</td>\n",
       "      <td>1</td>\n",
       "    </tr>\n",
       "    <tr>\n",
       "      <th>37022</th>\n",
       "      <td>2023-03-23 22:00:00</td>\n",
       "      <td>49.491905</td>\n",
       "      <td>50.516153</td>\n",
       "      <td>11677.522</td>\n",
       "      <td>1</td>\n",
       "    </tr>\n",
       "    <tr>\n",
       "      <th>37023</th>\n",
       "      <td>2023-03-23 23:00:00</td>\n",
       "      <td>48.805238</td>\n",
       "      <td>50.705384</td>\n",
       "      <td>10741.860</td>\n",
       "      <td>1</td>\n",
       "    </tr>\n",
       "  </tbody>\n",
       "</table>\n",
       "<p>7404 rows × 5 columns</p>\n",
       "</div>"
      ],
      "text/plain": [
       "                        ds  boston_area_apparent_temperature_avg  \\\n",
       "29620  2022-05-19 10:00:00                             54.828572   \n",
       "29621  2022-05-19 11:00:00                             54.890477   \n",
       "29622  2022-05-19 12:00:00                             55.145455   \n",
       "29623  2022-05-19 13:00:00                             55.404546   \n",
       "29624  2022-05-19 14:00:00                             55.382273   \n",
       "...                    ...                                   ...   \n",
       "37019  2023-03-23 19:00:00                             52.330476   \n",
       "37020  2023-03-23 20:00:00                             49.870476   \n",
       "37021  2023-03-23 21:00:00                             49.795238   \n",
       "37022  2023-03-23 22:00:00                             49.491905   \n",
       "37023  2023-03-23 23:00:00                             48.805238   \n",
       "\n",
       "       hartford_area_apparent_temperature_avg          y  is_weekday  \n",
       "29620                               52.665833  13117.797           1  \n",
       "29621                               52.884615  13199.001           1  \n",
       "29622                               52.942307  13205.589           1  \n",
       "29623                               53.140769  13116.635           1  \n",
       "29624                               53.659230  12934.000           1  \n",
       "...                                       ...        ...         ...  \n",
       "37019                               50.293076  13881.286           1  \n",
       "37020                               49.656154  13472.341           1  \n",
       "37021                               50.168461  12674.921           1  \n",
       "37022                               50.516153  11677.522           1  \n",
       "37023                               50.705384  10741.860           1  \n",
       "\n",
       "[7404 rows x 5 columns]"
      ]
     },
     "execution_count": 53,
     "metadata": {},
     "output_type": "execute_result"
    }
   ],
   "source": [
    "prophet_test"
   ]
  },
  {
   "cell_type": "code",
   "execution_count": null,
   "id": "14a234c1",
   "metadata": {},
   "outputs": [],
   "source": []
  }
 ],
 "metadata": {
  "kernelspec": {
   "display_name": "Python 3 (ipykernel)",
   "language": "python",
   "name": "python3"
  },
  "language_info": {
   "codemirror_mode": {
    "name": "ipython",
    "version": 3
   },
   "file_extension": ".py",
   "mimetype": "text/x-python",
   "name": "python",
   "nbconvert_exporter": "python",
   "pygments_lexer": "ipython3",
   "version": "3.10.9"
  },
  "toc-autonumbering": true,
  "toc-showcode": true,
  "toc-showmarkdowntxt": true
 },
 "nbformat": 4,
 "nbformat_minor": 5
}
